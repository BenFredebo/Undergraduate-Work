{
 "cells": [
  {
   "cell_type": "code",
   "execution_count": 1,
   "id": "a145e907-d62f-4b00-a1c7-d6ac10a77b19",
   "metadata": {
    "tags": []
   },
   "outputs": [],
   "source": [
    "# Python Notebook for PHYS 321B Computational Assignment #3\n",
    "\n",
    "import numpy as np\n",
    "import matplotlib.pyplot as plt\n",
    "from scipy import integrate\n",
    "from matplotlib import rc\n",
    "import scipy as sp\n",
    "\n",
    "# extra stuff to make the plots look nice:\n",
    "\n",
    "from matplotlib.ticker import (MultipleLocator, AutoMinorLocator)\n",
    "\n",
    "params = {\"text.usetex\" : True,\n",
    "          \"font.family\" : \"serif\",\n",
    "          \"font.serif\" : [\"cmr10\"],\n",
    "          \"font.size\": 20\n",
    "         }\n",
    "plt.rcParams.update(params)\n",
    "plt.rcParams['axes.formatter.use_mathtext'] = True\n",
    "\n",
    "import os\n",
    "os.environ[\"PATH\"]\n",
    "os.environ[\"PATH\"] += os.pathsep + '/Library/TeX/texbin/'\n",
    "plt.rcParams['axes.edgecolor'] = 'black'\n",
    "plt.rcParams['xtick.color'] = 'black'\n",
    "plt.rcParams['ytick.color'] = 'black'\n",
    "\n",
    "# Set tick parameters using rcParams\n",
    "plt.rcParams['xtick.direction'] = 'in'\n",
    "plt.rcParams['ytick.direction'] = 'in'\n",
    "plt.rcParams['xtick.major.size'] = 8\n",
    "plt.rcParams['xtick.minor.size'] = 4\n",
    "plt.rcParams['ytick.major.size'] = 8\n",
    "plt.rcParams['ytick.minor.size'] = 4\n",
    "plt.rcParams['xtick.major.width'] = 0.7\n",
    "plt.rcParams['xtick.minor.width'] = 0.7\n",
    "plt.rcParams['ytick.major.width'] = 0.7\n",
    "plt.rcParams['ytick.minor.width'] = 0.7\n",
    "\n",
    "plt.rcParams['font.weight'] = 'bold'\n"
   ]
  },
  {
   "cell_type": "markdown",
   "id": "c240d8be-ece8-4da7-bd58-479ddb791f83",
   "metadata": {},
   "source": [
    "#### 1. In this assignment I want you to generate experience using a ‘while’ loop.\n",
    "\n",
    "Consider a mass m sliding on a frictionless hemisphere (like the top of bowling ball). \n",
    "\n",
    "Using the equations of motion from question 3 in the regular assignment, make a program which starts with the mass at (or very near) θ = 0 (ie at the top) and then updates the position and θ′ for some small time-step.\n",
    "\n",
    "Have it run the algorithm ‘while the constraining force on r points in the positive direction update θ, otherwise report θ’.\n",
    "\n",
    "Run the program to check what angle the mass will lose contact with the hemisphere when starting at θ = 0 and θ′ = 0.\n",
    "\n",
    "Produce a graph showing the angle of lost contact as a function of θ′ when θ = 0."
   ]
  },
  {
   "cell_type": "markdown",
   "id": "7fc13400-1497-4a98-b45d-43f0080a8322",
   "metadata": {},
   "source": [
    "---\n",
    "The equations of motion found in question 3 are:\n",
    "\n",
    "\\begin{equation}\n",
    "m\\ddot{r} = mr \\dot{\\theta}^2 - mg cos \\theta + \\lambda\n",
    "\\end{equation}\n",
    "\n",
    "and:\n",
    "\n",
    "$$\n",
    "mr^2 \\ddot{\\theta} = mgrsin \\theta\n",
    "$$\n",
    "\n",
    "With force of constraint:\n",
    "\n",
    "$$\n",
    "\\lambda = mgcos \\theta - mr \\dot{\\theta}^2\n",
    "$$\n",
    "\n",
    "We may simplify our problem a lot by enforcing that $r=R$ which implies $\\ddot{r} = 0$. We then get that:\n",
    "\n",
    "$$\n",
    "mR^2 \\ddot{\\theta} = mgRsin \\theta\n",
    "$$\n",
    "\n",
    "Or:\n",
    "\n",
    "$$\n",
    "\\ddot{\\theta} = \\frac{g}{R}sin \\theta\n",
    "$$\n",
    "\n",
    "---\n",
    "\n",
    "To write our desired program we require a number of elements. Firstly, is an algorithm to solve the EOMs. We may use the techniques involved in the second computational assignment. As time steps progress and $\\theta$ and $\\dot{\\theta}$ are updated, we may then check the condition that:\n",
    "\n",
    "$$\n",
    "\\lambda >0 \\longrightarrow mgcos \\theta - mR \\dot{\\theta}^2 >0\n",
    "$$\n",
    "\n",
    "Once that condition breaks, we then simply record the value for the two parameters and the initial conditions we supply the algorithm ."
   ]
  },
  {
   "cell_type": "code",
   "execution_count": 2,
   "id": "4e2fc387-8abc-4320-b14b-63e396b19b4e",
   "metadata": {
    "tags": []
   },
   "outputs": [],
   "source": [
    "# constants of the problem: \n",
    "\n",
    "# we will set \n",
    "g=9.81 #m/s^2\n",
    "R = 1 # m\n",
    "m = 1 # kg\n",
    "\n",
    "# basic initial conditions:\n",
    "\n",
    "theta_0 = 0\n",
    "theta_p0 = 0"
   ]
  },
  {
   "cell_type": "code",
   "execution_count": 6,
   "id": "02baf562-e74d-4ebe-a3a5-9221ff91dcb8",
   "metadata": {
    "tags": []
   },
   "outputs": [],
   "source": [
    "# we will implement the while loop structure inside of a function\n",
    "# so that we can run it for a number of different initial conditions:\n",
    "\n",
    "# first we can define a constraint function that can check\n",
    "# if lambda > 0 or not:\n",
    "\n",
    "def constraint(theta, theta_p, g=g, m=m, R=R):\n",
    "    '''\n",
    "    takes current value of \n",
    "    theta and theta prime and \n",
    "    returns whether or not the \n",
    "    constraint is still valid\n",
    "    '''\n",
    "    lamb = m*g*np.cos(theta) - m*R*(theta_p**2)\n",
    "    \n",
    "    if lamb > 0:\n",
    "        return True\n",
    "    if lamb < 0:\n",
    "        return False\n",
    "\n",
    "def algorithm(TS=0.01, th0=theta_0, thp0 = theta_p0, g=g, m=m, R=R):\n",
    "    '''\n",
    "    Takes a time step TS, a number of \n",
    "    iterations N, a value for the two\n",
    "    initial conditions and constants\n",
    "    t0, tp0, g, ell \n",
    "    and returns the angle and angular \n",
    "    velocity that is reached when\n",
    "    the mass leaves the sphere\n",
    "    '''\n",
    "    \n",
    "    thetas = [th0]\n",
    "    theta_primes = [thp0]\n",
    "    index = 0\n",
    "    while (constraint(thetas[index], theta_primes[index])):\n",
    "        \n",
    "        # for first element of the arrays, use initial conditions:\n",
    "        if index==0:\n",
    "            # implements algorithm\n",
    "            thet = th0 + thp0 * TS\n",
    "            thet_p = thp0 + (g/R) *np.sin(th0)* TS\n",
    "            \n",
    "            # adds new values to lists\n",
    "            thetas.append(thet)\n",
    "            theta_primes.append(thet_p)\n",
    "            index+=1\n",
    "            \n",
    "        else:\n",
    "            # implements algorithm\n",
    "            thet = thetas[index-1] + theta_primes[index-1] * TS\n",
    "            thet_p = theta_primes[index-1] + (g/R) *np.sin(thetas[index-1])* TS\n",
    "            \n",
    "            # adds new values to lists\n",
    "            thetas.append(thet)\n",
    "            theta_primes.append(thet_p)\n",
    "            index+=1\n",
    "            \n",
    "            \n",
    "    return thetas[-1], theta_primes[-1]"
   ]
  },
  {
   "cell_type": "code",
   "execution_count": 28,
   "id": "42b6dfe7-7451-4542-a7a3-2864d7056d19",
   "metadata": {
    "tags": []
   },
   "outputs": [],
   "source": [
    "# lets run it for a bunch of initial velocities:\n",
    "\n",
    "# experimented with this to get all features with sufficient sampling:\n",
    "\n",
    "vels = np.linspace(0., 5, 100)\n",
    "\n",
    "# to simulate theta_0 = 0 without the algorithm getting stuck we set it to:\n",
    "\n",
    "th0_in = 0.0001\n",
    "\n",
    "# appropriately small timestep:\n",
    "\n",
    "time_step = 0.001\n",
    "\n",
    "data = np.array([algorithm(TS = time_step, th0 = th0_in, thp0 = vels[i]) for i in range(len(vels))]).T\n",
    "\n"
   ]
  },
  {
   "cell_type": "code",
   "execution_count": 29,
   "id": "0ace86b4-1b27-47eb-8bdb-89f05faf5e5f",
   "metadata": {
    "tags": []
   },
   "outputs": [
    {
     "data": {
      "image/png": "[encoded data removed]",
      "text/plain": [
       "<Figure size 800x600 with 1 Axes>"
      ]
     },
     "metadata": {},
     "output_type": "display_data"
    }
   ],
   "source": [
    "# plots a figre of the angle of lost contact as a function of theta prime\n",
    "# for theta ~ 0:\n",
    "\n",
    "# initiates plotting parameters\n",
    "width=8;height=6;ff, ax1 = plt.subplots(1,1);ff.set_figwidth(width);ff.set_figheight(height);ff.tight_layout(pad=4.0)\n",
    "\n",
    "ax1.set_title(r\"Plot of $\\theta (t)_{LC}$ as a Function of the Initial Angular Velocity\", pad = 15, fontsize=14)\n",
    "ax1.set_xlabel(r\"$\\dot{\\theta}, [\\frac{rads}{s}]$\",labelpad =10, fontsize=24)\n",
    "ax1.set_ylabel(r\"$\\theta_{LC}, [rads]$\",labelpad =10,fontsize=24)\n",
    "\n",
    "# actual plots:\n",
    "\n",
    "ax1.plot(vels,  data[0],c='darkcyan')\n",
    "\n",
    "# ticks and legend:\n",
    "ax1.yaxis.set_major_locator(MultipleLocator(0.2));ax1.yaxis.set_minor_locator(MultipleLocator(0.04))\n",
    "ax1.xaxis.set_major_locator(MultipleLocator(1));ax1.xaxis.set_minor_locator(MultipleLocator(0.2))\n",
    "ax1.tick_params(axis='both', direction=\"in\")\n",
    "ax1.tick_params(which=\"minor\", axis=\"x\", direction=\"in\")\n",
    "ax1.tick_params(which=\"minor\", axis=\"y\", direction=\"in\")\n",
    "ax1.xaxis.set_ticks_position('both') \n",
    "ax1.yaxis.set_ticks_position('both')\n",
    "ax1.grid(True, alpha=0.3, zorder=10)\n",
    "#ax1.legend( prop={'size': 12}, loc='lower right')\n",
    "ax1.set_ylim(-0.1,1.1)\n",
    "ax1.grid(True)\n",
    "plt.show()\n"
   ]
  },
  {
   "cell_type": "markdown",
   "id": "e4e850a1-5b8e-467e-8ae7-1ffbd301a43e",
   "metadata": {},
   "source": [
    "As we can see, for small initial velocities it takes a considerable angle passed through until we lose contact. With increasing initial velocities, this value decreases as would be expected. It then reaches a point where it starts with such initial angular velocity that it is never bound to the hemisphere to begin with. This occurs around $\\dot{\\theta}_0 \\approx 3.2$."
   ]
  },
  {
   "cell_type": "code",
   "execution_count": null,
   "id": "3aed44b5-5b9b-48cb-b647-43370fa9a903",
   "metadata": {},
   "outputs": [],
   "source": []
  }
 ],
 "metadata": {
  "kernelspec": {
   "display_name": "Python 3 (ipykernel)",
   "language": "python",
   "name": "python3"
  },
  "language_info": {
   "codemirror_mode": {
    "name": "ipython",
    "version": 3
   },
   "file_extension": ".py",
   "mimetype": "text/x-python",
   "name": "python",
   "nbconvert_exporter": "python",
   "pygments_lexer": "ipython3",
   "version": "3.10.13"
  }
 },
 "nbformat": 4,
 "nbformat_minor": 5
}
